{
 "cells": [
  {
   "cell_type": "markdown",
   "metadata": {},
   "source": [
    "This notebook checks to make sure the pickled model is working properly."
   ]
  },
  {
   "cell_type": "code",
   "execution_count": 12,
   "metadata": {},
   "outputs": [],
   "source": [
    "import pickle\n",
    "import gensim\n",
    "import pandas as pd"
   ]
  },
  {
   "cell_type": "code",
   "execution_count": 2,
   "metadata": {},
   "outputs": [],
   "source": [
    "# Load the pickled model from disk\n",
    "model = pickle.load(open('model.p', 'rb'))"
   ]
  },
  {
   "cell_type": "code",
   "execution_count": 4,
   "metadata": {},
   "outputs": [],
   "source": [
    "# Select a sample job description\n",
    "js = \"'\\nData Scientist\\n\\nat Brightidea\\n\\nSan Francisco\\n\\nThe Role\\n\\nWe are seeking machine learning developers with natural language processing experience.\\n\\nIn general, we are looking for people who are self-motivated and passionate about the field of machine learning and the vast applications of it. These folks will have the ability to work with / understand / and build on top of an existing code base using their deep knowledge of various machine learning algorithms (e.g. neural networks, bayesian methods, etc).\\n\\nKey responsibilities include, but not limited to:\\n\\n\\nBuild on top of an existing text processing/classification system\\nWrite, maintain, and develop python machine learning modules & repos\\nRun hyperparameter optimizations + collect, analyze, visualize, and present results\\n\\nWhat You Need to Succeed\\n\\nBS or MS in computer science, mathematics, physics or other hard science/engineering discipline\\nProgramming in Python ~ 2+ years\\nNumpy, scipy, pandas, Jupyter, and scikit-learn background\\nData visualization (e.g. matplotlib, seaborn, bokeh, mpld3, etc)\\nAbility to implement machine learning algorithms from scratch\\nExperience with full machine learning pipeline: from data preprocessing, to building/training various models, to hyperparameter optimization, testing, and visualization of results.\\nBackground in deep learning preferred but not required\\n\\nIn Your Application Please Include\\n\\n\\n\\nA past machine learning project you worked on in which highlights your skills, including: What tools/models did you use? What were some problems you encountered along the way, and how did you solve them?\""
   ]
  },
  {
   "cell_type": "code",
   "execution_count": 9,
   "metadata": {},
   "outputs": [],
   "source": [
    "# Preprocess the job description\n",
    "doc = gensim.utils.simple_preprocess(js)"
   ]
  },
  {
   "cell_type": "code",
   "execution_count": 7,
   "metadata": {},
   "outputs": [],
   "source": [
    "# Vectorize the job description\n",
    "vector = model.infer_vector(doc)"
   ]
  },
  {
   "cell_type": "code",
   "execution_count": 10,
   "metadata": {},
   "outputs": [
    {
     "data": {
      "text/plain": [
       "[(441, 0.5915085673332214),\n",
       " (1231, 0.5760758519172668),\n",
       " (2849, 0.5734542012214661),\n",
       " (3976, 0.5609011650085449),\n",
       " (1634, 0.5435008406639099),\n",
       " (1074, 0.5411732792854309),\n",
       " (3298, 0.5391528010368347),\n",
       " (18, 0.5345658659934998),\n",
       " (4269, 0.5208688378334045),\n",
       " (1656, 0.5193619728088379)]"
      ]
     },
     "execution_count": 10,
     "metadata": {},
     "output_type": "execute_result"
    }
   ],
   "source": [
    "# Extract the most similar docs from the model\n",
    "sims = model.docvecs.most_similar([vector])\n",
    "sims"
   ]
  },
  {
   "cell_type": "code",
   "execution_count": 13,
   "metadata": {},
   "outputs": [
    {
     "data": {
      "text/html": [
       "<div>\n",
       "<style scoped>\n",
       "    .dataframe tbody tr th:only-of-type {\n",
       "        vertical-align: middle;\n",
       "    }\n",
       "\n",
       "    .dataframe tbody tr th {\n",
       "        vertical-align: top;\n",
       "    }\n",
       "\n",
       "    .dataframe thead th {\n",
       "        text-align: right;\n",
       "    }\n",
       "</style>\n",
       "<table border=\"1\" class=\"dataframe\">\n",
       "  <thead>\n",
       "    <tr style=\"text-align: right;\">\n",
       "      <th></th>\n",
       "      <th>courseType</th>\n",
       "      <th>description</th>\n",
       "      <th>domainTypes</th>\n",
       "      <th>id</th>\n",
       "      <th>slug</th>\n",
       "      <th>specializations</th>\n",
       "      <th>workload</th>\n",
       "      <th>primaryLanguages</th>\n",
       "      <th>certificates</th>\n",
       "      <th>name</th>\n",
       "    </tr>\n",
       "  </thead>\n",
       "  <tbody>\n",
       "    <tr>\n",
       "      <th>0</th>\n",
       "      <td>v2.ondemand</td>\n",
       "      <td>Gamification is the application of game elemen...</td>\n",
       "      <td>[{'subdomainId': 'design-and-product', 'domain...</td>\n",
       "      <td>69Bku0KoEeWZtA4u62x6lQ</td>\n",
       "      <td>gamification</td>\n",
       "      <td>[]</td>\n",
       "      <td>4-8 hours/week</td>\n",
       "      <td>['en']</td>\n",
       "      <td>['VerifiedCert']</td>\n",
       "      <td>Gamification</td>\n",
       "    </tr>\n",
       "    <tr>\n",
       "      <th>1</th>\n",
       "      <td>v2.ondemand</td>\n",
       "      <td>This course will cover the steps used in weigh...</td>\n",
       "      <td>[{'subdomainId': 'data-analysis', 'domainId': ...</td>\n",
       "      <td>0HiU7Oe4EeWTAQ4yevf_oQ</td>\n",
       "      <td>missing-data</td>\n",
       "      <td>[]</td>\n",
       "      <td>4 weeks of study, 1-2 hours/week</td>\n",
       "      <td>['en']</td>\n",
       "      <td>['VerifiedCert', 'Specialization']</td>\n",
       "      <td>Dealing With Missing Data</td>\n",
       "    </tr>\n",
       "  </tbody>\n",
       "</table>\n",
       "</div>"
      ],
      "text/plain": [
       "    courseType                                        description  \\\n",
       "0  v2.ondemand  Gamification is the application of game elemen...   \n",
       "1  v2.ondemand  This course will cover the steps used in weigh...   \n",
       "\n",
       "                                         domainTypes                      id  \\\n",
       "0  [{'subdomainId': 'design-and-product', 'domain...  69Bku0KoEeWZtA4u62x6lQ   \n",
       "1  [{'subdomainId': 'data-analysis', 'domainId': ...  0HiU7Oe4EeWTAQ4yevf_oQ   \n",
       "\n",
       "           slug specializations                          workload  \\\n",
       "0  gamification              []                    4-8 hours/week   \n",
       "1  missing-data              []  4 weeks of study, 1-2 hours/week   \n",
       "\n",
       "  primaryLanguages                        certificates  \\\n",
       "0           ['en']                    ['VerifiedCert']   \n",
       "1           ['en']  ['VerifiedCert', 'Specialization']   \n",
       "\n",
       "                        name  \n",
       "0               Gamification  \n",
       "1  Dealing With Missing Data  "
      ]
     },
     "execution_count": 13,
     "metadata": {},
     "output_type": "execute_result"
    }
   ],
   "source": [
    "# Read in the course data\n",
    "course_df = pd.read_csv('../Data/Course_Data/Coursera_Catalog.csv')\n",
    "course_df.head(2)"
   ]
  },
  {
   "cell_type": "code",
   "execution_count": 14,
   "metadata": {},
   "outputs": [],
   "source": [
    "# Extract course ids from the similar doc list\n",
    "course_ids = [sim[0] for sim in sims]"
   ]
  },
  {
   "cell_type": "code",
   "execution_count": 15,
   "metadata": {},
   "outputs": [
    {
     "data": {
      "text/plain": [
       "441                              Data Science Math Skills\n",
       "1231                           Mathematics for economists\n",
       "2849    Scalable Machine Learning on Big Data using Ap...\n",
       "3976                  Big Data Integration and Processing\n",
       "1634                         Parallel Programming in Java\n",
       "1074                               Tools for Data Science\n",
       "3298    Programming for Everybody (Getting Started wit...\n",
       "18                                 Computer Vision Basics\n",
       "4269                                     Disease Clusters\n",
       "1656                                  業務効率や生産性向上につながる時間管理\n",
       "Name: name, dtype: object"
      ]
     },
     "execution_count": 15,
     "metadata": {},
     "output_type": "execute_result"
    }
   ],
   "source": [
    "# Display the names of the most similar courses\n",
    "course_df.loc[course_ids, 'name']"
   ]
  },
  {
   "cell_type": "code",
   "execution_count": null,
   "metadata": {},
   "outputs": [],
   "source": []
  }
 ],
 "metadata": {
  "kernelspec": {
   "display_name": "Python 3",
   "language": "python",
   "name": "python3"
  },
  "language_info": {
   "codemirror_mode": {
    "name": "ipython",
    "version": 3
   },
   "file_extension": ".py",
   "mimetype": "text/x-python",
   "name": "python",
   "nbconvert_exporter": "python",
   "pygments_lexer": "ipython3",
   "version": "3.7.3"
  }
 },
 "nbformat": 4,
 "nbformat_minor": 4
}
