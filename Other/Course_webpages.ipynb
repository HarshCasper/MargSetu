{
 "cells": [
  {
   "cell_type": "markdown",
   "metadata": {},
   "source": [
    "The purpose of this notebook is to try to retrieve the web addresses for the courses. They do not seem to be available through the API."
   ]
  },
  {
   "cell_type": "code",
   "execution_count": 3,
   "metadata": {},
   "outputs": [],
   "source": [
    "import pandas as pd\n",
    "import requests\n",
    "import time"
   ]
  },
  {
   "cell_type": "code",
   "execution_count": 8,
   "metadata": {},
   "outputs": [
    {
     "name": "stdout",
     "output_type": "stream",
     "text": [
      "Request status for page 0 is 200.\n",
      "Request status for page 1 is 200.\n",
      "Finished. The number of courses gotten from the catalog is 200\n"
     ]
    }
   ],
   "source": [
    "# Get the entire Coursera catalog.\n",
    "\n",
    "# Instantiate a list to hold the courses\n",
    "courses = []\n",
    "\n",
    "# Set the base url for making get requests\n",
    "base_url = 'https://api.coursera.org/api/courses.v1'\n",
    "\n",
    "# Add the fields I want to include in my requests\n",
    "fields = \"&fields=previewLink,photoURL\"\n",
    "\n",
    "# Loop through all 45 pages of the catalog\n",
    "for page in range(2):\n",
    "    \n",
    "    # set pagination\n",
    "    pagination = f\"?start={page*100}&limit=100\"\n",
    "\n",
    "    # make a request\n",
    "    res = requests.get(base_url + pagination + fields)\n",
    "    print(f'Request status for page {page} is {res.status_code}.')\n",
    "    \n",
    "    # convert from json\n",
    "    dict = res.json()\n",
    "    \n",
    "    # add to the catalog dictionary\n",
    "    for course in dict['elements']:\n",
    "        courses.append(course)\n",
    "    \n",
    "    # delay time to next request\n",
    "    time.sleep(2)\n",
    "\n",
    "print(f'Finished. The number of courses gotten from the catalog is {len(courses)}')"
   ]
  },
  {
   "cell_type": "code",
   "execution_count": 9,
   "metadata": {},
   "outputs": [
    {
     "name": "stdout",
     "output_type": "stream",
     "text": [
      "(200, 4)\n"
     ]
    },
    {
     "data": {
      "text/html": [
       "<div>\n",
       "<style scoped>\n",
       "    .dataframe tbody tr th:only-of-type {\n",
       "        vertical-align: middle;\n",
       "    }\n",
       "\n",
       "    .dataframe tbody tr th {\n",
       "        vertical-align: top;\n",
       "    }\n",
       "\n",
       "    .dataframe thead th {\n",
       "        text-align: right;\n",
       "    }\n",
       "</style>\n",
       "<table border=\"1\" class=\"dataframe\">\n",
       "  <thead>\n",
       "    <tr style=\"text-align: right;\">\n",
       "      <th></th>\n",
       "      <th>courseType</th>\n",
       "      <th>id</th>\n",
       "      <th>slug</th>\n",
       "      <th>name</th>\n",
       "    </tr>\n",
       "  </thead>\n",
       "  <tbody>\n",
       "    <tr>\n",
       "      <th>0</th>\n",
       "      <td>v2.ondemand</td>\n",
       "      <td>69Bku0KoEeWZtA4u62x6lQ</td>\n",
       "      <td>gamification</td>\n",
       "      <td>Gamification</td>\n",
       "    </tr>\n",
       "    <tr>\n",
       "      <th>1</th>\n",
       "      <td>v2.ondemand</td>\n",
       "      <td>0HiU7Oe4EeWTAQ4yevf_oQ</td>\n",
       "      <td>missing-data</td>\n",
       "      <td>Dealing With Missing Data</td>\n",
       "    </tr>\n",
       "    <tr>\n",
       "      <th>2</th>\n",
       "      <td>v2.ondemand</td>\n",
       "      <td>sI_-QEBiEemtDRLx7Ne8jg</td>\n",
       "      <td>cs-fundamentals-3</td>\n",
       "      <td>Unordered Data Structures</td>\n",
       "    </tr>\n",
       "    <tr>\n",
       "      <th>3</th>\n",
       "      <td>v2.ondemand</td>\n",
       "      <td>5zjIsJq-EeW_wArffOXkOw</td>\n",
       "      <td>vital-signs</td>\n",
       "      <td>Vital Signs: Understanding What the Body Is Te...</td>\n",
       "    </tr>\n",
       "    <tr>\n",
       "      <th>4</th>\n",
       "      <td>v2.ondemand</td>\n",
       "      <td>WFanvtoSEeedbRLwgi9a7A</td>\n",
       "      <td>fintech-disruption</td>\n",
       "      <td>FinTech Disruptive Innovation: Implications fo...</td>\n",
       "    </tr>\n",
       "  </tbody>\n",
       "</table>\n",
       "</div>"
      ],
      "text/plain": [
       "    courseType                      id                slug  \\\n",
       "0  v2.ondemand  69Bku0KoEeWZtA4u62x6lQ        gamification   \n",
       "1  v2.ondemand  0HiU7Oe4EeWTAQ4yevf_oQ        missing-data   \n",
       "2  v2.ondemand  sI_-QEBiEemtDRLx7Ne8jg   cs-fundamentals-3   \n",
       "3  v2.ondemand  5zjIsJq-EeW_wArffOXkOw         vital-signs   \n",
       "4  v2.ondemand  WFanvtoSEeedbRLwgi9a7A  fintech-disruption   \n",
       "\n",
       "                                                name  \n",
       "0                                       Gamification  \n",
       "1                          Dealing With Missing Data  \n",
       "2                          Unordered Data Structures  \n",
       "3  Vital Signs: Understanding What the Body Is Te...  \n",
       "4  FinTech Disruptive Innovation: Implications fo...  "
      ]
     },
     "execution_count": 9,
     "metadata": {},
     "output_type": "execute_result"
    }
   ],
   "source": [
    "# Convert the dictionary to DataFrame\n",
    "\n",
    "catalog_df = pd.DataFrame(courses)\n",
    "print(catalog_df.shape)\n",
    "catalog_df.head()"
   ]
  },
  {
   "cell_type": "code",
   "execution_count": null,
   "metadata": {},
   "outputs": [],
   "source": []
  }
 ],
 "metadata": {
  "kernelspec": {
   "display_name": "Python 3",
   "language": "python",
   "name": "python3"
  },
  "language_info": {
   "codemirror_mode": {
    "name": "ipython",
    "version": 3
   },
   "file_extension": ".py",
   "mimetype": "text/x-python",
   "name": "python",
   "nbconvert_exporter": "python",
   "pygments_lexer": "ipython3",
   "version": "3.7.6"
  }
 },
 "nbformat": 4,
 "nbformat_minor": 4
}
