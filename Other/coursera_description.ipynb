{
 "cells": [
  {
   "cell_type": "code",
   "execution_count": 1,
   "metadata": {},
   "outputs": [],
   "source": [
    "import pandas as pd"
   ]
  },
  {
   "cell_type": "code",
   "execution_count": 2,
   "metadata": {},
   "outputs": [],
   "source": [
    "df = pd.read_csv('../Data/Course_Data/Coursera_Catalog.csv')"
   ]
  },
  {
   "cell_type": "code",
   "execution_count": 3,
   "metadata": {},
   "outputs": [
    {
     "data": {
      "text/html": [
       "<div>\n",
       "<style scoped>\n",
       "    .dataframe tbody tr th:only-of-type {\n",
       "        vertical-align: middle;\n",
       "    }\n",
       "\n",
       "    .dataframe tbody tr th {\n",
       "        vertical-align: top;\n",
       "    }\n",
       "\n",
       "    .dataframe thead th {\n",
       "        text-align: right;\n",
       "    }\n",
       "</style>\n",
       "<table border=\"1\" class=\"dataframe\">\n",
       "  <thead>\n",
       "    <tr style=\"text-align: right;\">\n",
       "      <th></th>\n",
       "      <th>courseType</th>\n",
       "      <th>description</th>\n",
       "      <th>domainTypes</th>\n",
       "      <th>id</th>\n",
       "      <th>slug</th>\n",
       "      <th>specializations</th>\n",
       "      <th>workload</th>\n",
       "      <th>primaryLanguages</th>\n",
       "      <th>certificates</th>\n",
       "      <th>name</th>\n",
       "    </tr>\n",
       "  </thead>\n",
       "  <tbody>\n",
       "    <tr>\n",
       "      <th>0</th>\n",
       "      <td>v2.ondemand</td>\n",
       "      <td>Gamification is the application of game elemen...</td>\n",
       "      <td>[{'subdomainId': 'design-and-product', 'domain...</td>\n",
       "      <td>69Bku0KoEeWZtA4u62x6lQ</td>\n",
       "      <td>gamification</td>\n",
       "      <td>[]</td>\n",
       "      <td>4-8 hours/week</td>\n",
       "      <td>['en']</td>\n",
       "      <td>['VerifiedCert']</td>\n",
       "      <td>Gamification</td>\n",
       "    </tr>\n",
       "    <tr>\n",
       "      <th>1</th>\n",
       "      <td>v2.ondemand</td>\n",
       "      <td>This course will cover the steps used in weigh...</td>\n",
       "      <td>[{'subdomainId': 'data-analysis', 'domainId': ...</td>\n",
       "      <td>0HiU7Oe4EeWTAQ4yevf_oQ</td>\n",
       "      <td>missing-data</td>\n",
       "      <td>[]</td>\n",
       "      <td>4 weeks of study, 1-2 hours/week</td>\n",
       "      <td>['en']</td>\n",
       "      <td>['VerifiedCert', 'Specialization']</td>\n",
       "      <td>Dealing With Missing Data</td>\n",
       "    </tr>\n",
       "  </tbody>\n",
       "</table>\n",
       "</div>"
      ],
      "text/plain": [
       "    courseType                                        description  \\\n",
       "0  v2.ondemand  Gamification is the application of game elemen...   \n",
       "1  v2.ondemand  This course will cover the steps used in weigh...   \n",
       "\n",
       "                                         domainTypes                      id  \\\n",
       "0  [{'subdomainId': 'design-and-product', 'domain...  69Bku0KoEeWZtA4u62x6lQ   \n",
       "1  [{'subdomainId': 'data-analysis', 'domainId': ...  0HiU7Oe4EeWTAQ4yevf_oQ   \n",
       "\n",
       "           slug specializations                          workload  \\\n",
       "0  gamification              []                    4-8 hours/week   \n",
       "1  missing-data              []  4 weeks of study, 1-2 hours/week   \n",
       "\n",
       "  primaryLanguages                        certificates  \\\n",
       "0           ['en']                    ['VerifiedCert']   \n",
       "1           ['en']  ['VerifiedCert', 'Specialization']   \n",
       "\n",
       "                        name  \n",
       "0               Gamification  \n",
       "1  Dealing With Missing Data  "
      ]
     },
     "execution_count": 3,
     "metadata": {},
     "output_type": "execute_result"
    }
   ],
   "source": [
    "df.head(2)"
   ]
  },
  {
   "cell_type": "code",
   "execution_count": 10,
   "metadata": {},
   "outputs": [
    {
     "data": {
      "text/plain": [
       "'By enrolling in this specialization you agree to the Qwiklabs Terms of Service as set out in the FAQ and located at: htt...'"
      ]
     },
     "execution_count": 10,
     "metadata": {},
     "output_type": "execute_result"
    }
   ],
   "source": [
    "df.iloc[920]['description'][0:120] + \"...\""
   ]
  },
  {
   "cell_type": "code",
   "execution_count": null,
   "metadata": {},
   "outputs": [],
   "source": []
  }
 ],
 "metadata": {
  "kernelspec": {
   "display_name": "Python 3",
   "language": "python",
   "name": "python3"
  },
  "language_info": {
   "codemirror_mode": {
    "name": "ipython",
    "version": 3
   },
   "file_extension": ".py",
   "mimetype": "text/x-python",
   "name": "python",
   "nbconvert_exporter": "python",
   "pygments_lexer": "ipython3",
   "version": "3.7.3"
  }
 },
 "nbformat": 4,
 "nbformat_minor": 4
}
