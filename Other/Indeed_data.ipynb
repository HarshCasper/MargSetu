{
 "cells": [
  {
   "cell_type": "markdown",
   "metadata": {},
   "source": [
    "The purpose of this notebook is to pull job descriptions off Indeed (using RapidAPI)."
   ]
  },
  {
   "cell_type": "code",
   "execution_count": 1,
   "metadata": {},
   "outputs": [],
   "source": [
    "import requests"
   ]
  },
  {
   "cell_type": "code",
   "execution_count": 4,
   "metadata": {},
   "outputs": [
    {
     "name": "stdout",
     "output_type": "stream",
     "text": [
      "{\"context\":{\"results_count\":519,\"current_page\":1,\"page_count\":52,\"search_url\":\"https://www.indeed.com/jobs?q=data+scientist&l=san+francisco&start=00\"},\"jobs\":[{\"job_id\":\"54ab161b978a26b3\",\"company\":\"University of California San Francisco\",\"company_url\":\"https://www.indeed.com/cmp/University-of-California---SAN-Francisco\",\"company_rating\":4.2,\"location\":\"San Francisco, CA 94143 (Haight-Ashbury area)\",\"description\":\"Additionally, this position requires strong multitasking skills as the Research Data Scientist may also support data management and analysis needs of…\",\"publication_date\":\"2020-05-28T12:00:00.000Z\"},{\"job_id\":\"281c22f20aaf3dc9\",\"company\":\"Twitter\",\"company_url\":\"https://www.indeed.com/cmp/Twitter\",\"company_rating\":4.1,\"location\":\"San Francisco, CA 94103 (South of Market area)\",\"description\":\"You’re passionate to work on large datasets to generate knowledge on behaviors and trends and have a diverse interest and skill set covering data analysis,…\",\"publication_date\":\"2020-05-06T12:00:00.000Z\"},{\"job_id\":\"7e5b1dd0315dd25a\",\"company\":\"Pinterest\",\"company_url\":\"https://www.indeed.com/cmp/Pinterest\",\"company_rating\":4.2,\"location\":\"San Francisco, CA 94103 (South of Market area)\",\"description\":\"6+ years of industry experience with proven ability to apply scientific methods to solve real-world problems on web-scale data.\",\"publication_date\":\"2020-05-31T12:00:00.000Z\"},{\"job_id\":\"544e3faafc2bf1d7\",\"company\":\"Blue Owl\",\"location\":\"San Francisco, CA\",\"salary\":\"$200,000 - $350,000 a year\",\"description\":\"Demonstrable expertise building and supporting machine learning models deployed to production. You have built time series models using econometric approaches as…\",\"publication_date\":\"30+ days ago\"},{\"job_id\":\"45811e1c376e78ca\",\"company\":\"Adobe\",\"company_url\":\"https://www.indeed.com/cmp/Adobe\",\"company_rating\":4.3,\"location\":\"San Francisco, CA 94107 (South of Market area)\",\"description\":\"Exposure to applied machine learning in an industrial setting. This will involve thinking hard about product quality, the role of machine learning in those…\",\"publication_date\":\"30+ days ago\"},{\"job_id\":\"ecacf58f2f41884b\",\"company\":\"Notion\",\"location\":\"San Francisco, CA 94110 (Mission area)\",\"description\":\"You have experience building predictive statistical and machine learning models, and you can build reproducible backtests for proposed models to demonstrate…\",\"publication_date\":\"30+ days ago\"},{\"job_id\":\"7ce9e0a3bb536d7a\",\"company\":\"SentiLink\",\"location\":\"San Francisco, CA 94103 (South of Market area)\",\"description\":\"A graduate degree in a technical field and 1+ years relevant work experience OR 3+ years relevant work experience (e.g. data scientist, machine learning…\",\"publication_date\":\"30+ days ago\"},{\"job_id\":\"69f3b39791a4d24d\",\"company\":\"Eaze\",\"location\":\"San Francisco, CA\",\"description\":\"Building production data science models utilized by many departments at Eaze as well as our core product, including predictive, vehicle routing, monte-carlo,…\",\"publication_date\":\"30+ days ago\"},{\"job_id\":\"19559f2a996703a4\",\"company\":\"Y Combinator\",\"location\":\"San Francisco, CA 94108 (Chinatown area)\",\"description\":\"Build machine learning models to support admissions processes. You will be the point person for data pipeline, analysis and modeling efforts, primarily focusing…\",\"publication_date\":\"30+ days ago\"},{\"job_id\":\"b575ede49cdd6689\",\"company\":\"The Climate Corporation\",\"company_url\":\"https://www.indeed.com/cmp/The-Climate-Corporation\",\"company_rating\":3.6,\"location\":\"San Francisco, CA\",\"description\":\"Working with engineering and scientific leaders, you will set the strategic direction of productizing large scale scientific problems that inform our products…\",\"publication_date\":\"30+ days ago\"}]}\n"
     ]
    }
   ],
   "source": [
    "# Use the code copied from Rapid API.\n",
    "\n",
    "url = \"https://indeed9.p.rapidapi.com/search\"\n",
    "\n",
    "payload = \"page=1&position=data%20scientist&city=san%20francisco\"\n",
    "headers = {\n",
    "    'x-rapidapi-host': \"indeed9.p.rapidapi.com\",\n",
    "    'x-rapidapi-key': \"\",\n",
    "    'content-type': \"application/x-www-form-urlencoded\"\n",
    "    }\n",
    "\n",
    "response = requests.request(\"POST\", url, data=payload, headers=headers)\n",
    "\n",
    "print(response.text)"
   ]
  },
  {
   "cell_type": "code",
   "execution_count": 5,
   "metadata": {},
   "outputs": [],
   "source": [
    "jobs = response.json()"
   ]
  },
  {
   "cell_type": "code",
   "execution_count": 6,
   "metadata": {},
   "outputs": [
    {
     "data": {
      "text/plain": [
       "dict_keys(['context', 'jobs'])"
      ]
     },
     "execution_count": 6,
     "metadata": {},
     "output_type": "execute_result"
    }
   ],
   "source": [
    "jobs.keys()"
   ]
  },
  {
   "cell_type": "code",
   "execution_count": 7,
   "metadata": {},
   "outputs": [
    {
     "data": {
      "text/plain": [
       "{'results_count': 519,\n",
       " 'current_page': 1,\n",
       " 'page_count': 52,\n",
       " 'search_url': 'https://www.indeed.com/jobs?q=data+scientist&l=san+francisco&start=00'}"
      ]
     },
     "execution_count": 7,
     "metadata": {},
     "output_type": "execute_result"
    }
   ],
   "source": [
    "jobs['context']"
   ]
  },
  {
   "cell_type": "code",
   "execution_count": 8,
   "metadata": {},
   "outputs": [
    {
     "data": {
      "text/plain": [
       "{'job_id': '54ab161b978a26b3',\n",
       " 'company': 'University of California San Francisco',\n",
       " 'company_url': 'https://www.indeed.com/cmp/University-of-California---SAN-Francisco',\n",
       " 'company_rating': 4.2,\n",
       " 'location': 'San Francisco, CA 94143 (Haight-Ashbury area)',\n",
       " 'description': 'Additionally, this position requires strong multitasking skills as the Research Data Scientist may also support data management and analysis needs of…',\n",
       " 'publication_date': '2020-05-28T12:00:00.000Z'}"
      ]
     },
     "execution_count": 8,
     "metadata": {},
     "output_type": "execute_result"
    }
   ],
   "source": [
    "# What does one job entry look like?\n",
    "# Does not include the full description!\n",
    "\n",
    "jobs['jobs'][0]"
   ]
  },
  {
   "cell_type": "code",
   "execution_count": 9,
   "metadata": {},
   "outputs": [
    {
     "data": {
      "text/plain": [
       "10"
      ]
     },
     "execution_count": 9,
     "metadata": {},
     "output_type": "execute_result"
    }
   ],
   "source": [
    "# Only getting ten jobs per request.\n",
    "len(jobs['jobs'])"
   ]
  },
  {
   "cell_type": "code",
   "execution_count": null,
   "metadata": {},
   "outputs": [],
   "source": []
  }
 ],
 "metadata": {
  "kernelspec": {
   "display_name": "Python 3",
   "language": "python",
   "name": "python3"
  },
  "language_info": {
   "codemirror_mode": {
    "name": "ipython",
    "version": 3
   },
   "file_extension": ".py",
   "mimetype": "text/x-python",
   "name": "python",
   "nbconvert_exporter": "python",
   "pygments_lexer": "ipython3",
   "version": "3.7.3"
  }
 },
 "nbformat": 4,
 "nbformat_minor": 4
}
